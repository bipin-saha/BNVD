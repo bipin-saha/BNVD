{
 "cells": [
  {
   "cell_type": "code",
   "execution_count": null,
   "id": "d837c8a0",
   "metadata": {
    "_cell_guid": "b1076dfc-b9ad-4769-8c92-a6c4dae69d19",
    "_uuid": "8f2839f25d086af736a60e9eeb907d3b93b6e0e5",
    "execution": {
     "iopub.execute_input": "2024-05-08T04:28:45.012858Z",
     "iopub.status.busy": "2024-05-08T04:28:45.012163Z",
     "iopub.status.idle": "2024-05-08T04:29:17.767170Z",
     "shell.execute_reply": "2024-05-08T04:29:17.766095Z"
    },
    "papermill": {
     "duration": 32.762375,
     "end_time": "2024-05-08T04:29:17.769584",
     "exception": false,
     "start_time": "2024-05-08T04:28:45.007209",
     "status": "completed"
    },
    "tags": []
   },
   "outputs": [],
   "source": [
    "!git clone https://github.com/ultralytics/yolov5.git\n",
    "%cd /kaggle/working/yolov5\n",
    "!git checkout b599ae42d9adb8bcb96a1de6ad093436aac9fe6b\n",
    "!pip install -qr requirements.txt\n",
    "!pip install gdown"
   ]
  },
  {
   "cell_type": "code",
   "execution_count": null,
   "id": "c6ec282d",
   "metadata": {
    "execution": {
     "iopub.execute_input": "2024-05-08T04:29:17.782474Z",
     "iopub.status.busy": "2024-05-08T04:29:17.781963Z",
     "iopub.status.idle": "2024-05-08T04:29:24.517471Z",
     "shell.execute_reply": "2024-05-08T04:29:24.516559Z"
    },
    "papermill": {
     "duration": 6.744393,
     "end_time": "2024-05-08T04:29:24.519769",
     "exception": false,
     "start_time": "2024-05-08T04:29:17.775376",
     "status": "completed"
    },
    "tags": []
   },
   "outputs": [],
   "source": [
    "%cd /kaggle/working/\n",
    "!wget https://github.com/ultralytics/yolov5/releases/download/v7.0/yolov5m.pt"
   ]
  },
  {
   "cell_type": "code",
   "execution_count": null,
   "id": "15fffbd7",
   "metadata": {
    "execution": {
     "iopub.execute_input": "2024-05-08T04:30:53.257931Z",
     "iopub.status.busy": "2024-05-08T04:30:53.257491Z",
     "iopub.status.idle": "2024-05-08T04:31:47.429109Z",
     "shell.execute_reply": "2024-05-08T04:31:47.428197Z"
    },
    "papermill": {
     "duration": 54.216774,
     "end_time": "2024-05-08T04:31:47.431119",
     "exception": false,
     "start_time": "2024-05-08T04:30:53.214345",
     "status": "completed"
    },
    "tags": []
   },
   "outputs": [],
   "source": [
    "!unzip /kaggle/working/ODS.zip -d /kaggle/working/ODS"
   ]
  },
  {
   "cell_type": "code",
   "execution_count": 5,
   "id": "e095393d",
   "metadata": {
    "execution": {
     "iopub.execute_input": "2024-05-08T04:31:47.786842Z",
     "iopub.status.busy": "2024-05-08T04:31:47.786469Z",
     "iopub.status.idle": "2024-05-08T04:31:47.826927Z",
     "shell.execute_reply": "2024-05-08T04:31:47.826220Z"
    },
    "papermill": {
     "duration": 0.216793,
     "end_time": "2024-05-08T04:31:47.828863",
     "exception": false,
     "start_time": "2024-05-08T04:31:47.612070",
     "status": "completed"
    },
    "tags": []
   },
   "outputs": [],
   "source": [
    "import yaml\n",
    "\n",
    "# Define the data dictionary\n",
    "data = {\n",
    "    'train': '/kaggle/working/ODS/ODS_New_Splits/train/images',\n",
    "    'val': '/kaggle/working/ODS/ODS_New_Splits/valid/images',\n",
    "    'test': '/kaggle/working/ODS/ODS_New_Splits/test/images',\n",
    "    'nc': 17,\n",
    "    'names': ['Bicycle', 'Bus', 'Bhotbhoti', 'Car', 'CNG', 'Easybike', 'Leguna', 'Motorbike', 'MPV', 'Pedestrian', 'Pickup', 'PowerTiller', 'Rickshaw', 'ShoppingVan', 'Truck', 'Van', 'Wheelbarrow']\n",
    "}\n",
    "\n",
    "# Save the data to YAML file\n",
    "with open('/kaggle/working/ODS/ODS_New_Splits/data.yaml', 'w') as file:\n",
    "    yaml.dump(data, file)"
   ]
  },
  {
   "cell_type": "code",
   "execution_count": null,
   "id": "2d659c64",
   "metadata": {
    "execution": {
     "iopub.execute_input": "2024-05-08T04:31:48.212542Z",
     "iopub.status.busy": "2024-05-08T04:31:48.212193Z",
     "iopub.status.idle": "2024-05-08T04:31:48.218760Z",
     "shell.execute_reply": "2024-05-08T04:31:48.217664Z"
    },
    "papermill": {
     "duration": 0.179134,
     "end_time": "2024-05-08T04:31:48.220670",
     "exception": false,
     "start_time": "2024-05-08T04:31:48.041536",
     "status": "completed"
    },
    "tags": []
   },
   "outputs": [],
   "source": [
    "%cd /kaggle/working/yolov5"
   ]
  },
  {
   "cell_type": "code",
   "execution_count": null,
   "id": "df595521",
   "metadata": {
    "execution": {
     "iopub.execute_input": "2024-05-08T04:31:48.561387Z",
     "iopub.status.busy": "2024-05-08T04:31:48.561052Z",
     "iopub.status.idle": "2024-05-08T04:31:52.967108Z",
     "shell.execute_reply": "2024-05-08T04:31:52.965965Z"
    },
    "papermill": {
     "duration": 4.579326,
     "end_time": "2024-05-08T04:31:52.969494",
     "exception": false,
     "start_time": "2024-05-08T04:31:48.390168",
     "status": "completed"
    },
    "tags": []
   },
   "outputs": [],
   "source": [
    "!pip uninstall wandb --yes"
   ]
  },
  {
   "cell_type": "code",
   "execution_count": null,
   "id": "8aadcb99",
   "metadata": {
    "execution": {
     "iopub.execute_input": "2024-05-08T04:31:53.964420Z",
     "iopub.status.busy": "2024-05-08T04:31:53.963996Z",
     "iopub.status.idle": "2024-05-08T08:42:58.470560Z",
     "shell.execute_reply": "2024-05-08T08:42:58.469341Z"
    },
    "papermill": {
     "duration": 15064.731669,
     "end_time": "2024-05-08T08:42:58.473070",
     "exception": false,
     "start_time": "2024-05-08T04:31:53.741401",
     "status": "completed"
    },
    "tags": []
   },
   "outputs": [],
   "source": [
    "!python train.py --img 640 --batch 64 --epochs 100 --data /kaggle/working/BNVD/data.yaml --weights /kaggle/working/yolov5m.pt --device 0,1"
   ]
  }
 ],
 "metadata": {
  "kaggle": {
   "accelerator": "nvidiaTeslaT4",
   "dataSources": [
    {
     "datasetId": 4915638,
     "sourceId": 8277934,
     "sourceType": "datasetVersion"
    }
   ],
   "dockerImageVersionId": 30699,
   "isGpuEnabled": true,
   "isInternetEnabled": true,
   "language": "python",
   "sourceType": "notebook"
  },
  "kernelspec": {
   "display_name": "Python 3",
   "language": "python",
   "name": "python3"
  },
  "language_info": {
   "codemirror_mode": {
    "name": "ipython",
    "version": 3
   },
   "file_extension": ".py",
   "mimetype": "text/x-python",
   "name": "python",
   "nbconvert_exporter": "python",
   "pygments_lexer": "ipython3",
   "version": "3.10.13"
  },
  "papermill": {
   "default_parameters": {},
   "duration": 15257.399278,
   "end_time": "2024-05-08T08:42:59.543728",
   "environment_variables": {},
   "exception": null,
   "input_path": "__notebook__.ipynb",
   "output_path": "__notebook__.ipynb",
   "parameters": {},
   "start_time": "2024-05-08T04:28:42.144450",
   "version": "2.5.0"
  }
 },
 "nbformat": 4,
 "nbformat_minor": 5
}
